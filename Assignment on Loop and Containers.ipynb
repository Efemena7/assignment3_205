{
 "cells": [
  {
   "cell_type": "markdown",
   "id": "535925d1-9ea6-4f61-a87d-160e2ba3dfcc",
   "metadata": {},
   "source": [
    "## 1. Write a program that counts down from 10 to 1, then prints \"Blast off!\""
   ]
  },
  {
   "cell_type": "code",
   "execution_count": 87,
   "id": "7b936300-6fae-46d1-a20b-d74e19903009",
   "metadata": {},
   "outputs": [
    {
     "name": "stdout",
     "output_type": "stream",
     "text": [
      "10\n",
      "9\n",
      "8\n",
      "7\n",
      "6\n",
      "5\n",
      "4\n",
      "3\n",
      "2\n",
      "1\n",
      "Blast Off!\n"
     ]
    }
   ],
   "source": [
    "count = [10, 9, 8, 7, 6, 5, 4, 3, 2, 1]\n",
    "for i in count:\n",
    "    print (i)\n",
    "else:\n",
    "    print(\"Blast Off!\")"
   ]
  },
  {
   "cell_type": "markdown",
   "id": "2da34de9-0201-446a-852c-77a79944a8ee",
   "metadata": {},
   "source": [
    "## 2. Write a program that finds all numbers between 1 and 1000 that are divisible by 7."
   ]
  },
  {
   "cell_type": "code",
   "execution_count": 11,
   "id": "d092ac13-e175-445b-9b6e-8b120f6e1ccd",
   "metadata": {},
   "outputs": [
    {
     "name": "stdout",
     "output_type": "stream",
     "text": [
      "7\n",
      "14\n",
      "21\n",
      "28\n",
      "35\n",
      "42\n",
      "49\n",
      "56\n",
      "63\n",
      "70\n",
      "77\n",
      "84\n",
      "91\n",
      "98\n",
      "105\n",
      "112\n",
      "119\n",
      "126\n",
      "133\n",
      "140\n",
      "147\n",
      "154\n",
      "161\n",
      "168\n",
      "175\n",
      "182\n",
      "189\n",
      "196\n",
      "203\n",
      "210\n",
      "217\n",
      "224\n",
      "231\n",
      "238\n",
      "245\n",
      "252\n",
      "259\n",
      "266\n",
      "273\n",
      "280\n",
      "287\n",
      "294\n",
      "301\n",
      "308\n",
      "315\n",
      "322\n",
      "329\n",
      "336\n",
      "343\n",
      "350\n",
      "357\n",
      "364\n",
      "371\n",
      "378\n",
      "385\n",
      "392\n",
      "399\n",
      "406\n",
      "413\n",
      "420\n",
      "427\n",
      "434\n",
      "441\n",
      "448\n",
      "455\n",
      "462\n",
      "469\n",
      "476\n",
      "483\n",
      "490\n",
      "497\n",
      "504\n",
      "511\n",
      "518\n",
      "525\n",
      "532\n",
      "539\n",
      "546\n",
      "553\n",
      "560\n",
      "567\n",
      "574\n",
      "581\n",
      "588\n",
      "595\n",
      "602\n",
      "609\n",
      "616\n",
      "623\n",
      "630\n",
      "637\n",
      "644\n",
      "651\n",
      "658\n",
      "665\n",
      "672\n",
      "679\n",
      "686\n",
      "693\n",
      "700\n",
      "707\n",
      "714\n",
      "721\n",
      "728\n",
      "735\n",
      "742\n",
      "749\n",
      "756\n",
      "763\n",
      "770\n",
      "777\n",
      "784\n",
      "791\n",
      "798\n",
      "805\n",
      "812\n",
      "819\n",
      "826\n",
      "833\n",
      "840\n",
      "847\n",
      "854\n",
      "861\n",
      "868\n",
      "875\n",
      "882\n",
      "889\n",
      "896\n",
      "903\n",
      "910\n",
      "917\n",
      "924\n",
      "931\n",
      "938\n",
      "945\n",
      "952\n",
      "959\n",
      "966\n",
      "973\n",
      "980\n",
      "987\n",
      "994\n"
     ]
    }
   ],
   "source": [
    "for i in range(1,1001):\n",
    "    if i % 7 == 0:\n",
    "        print(i)"
   ]
  },
  {
   "cell_type": "markdown",
   "id": "87862c6c-3542-4397-b2b0-d4941a71f8ff",
   "metadata": {},
   "source": [
    "## 3. Given a list of numbers, find and print the largest and smallest values."
   ]
  },
  {
   "cell_type": "code",
   "execution_count": 89,
   "id": "05b99665-7e2d-4ca1-98b8-05779b03457c",
   "metadata": {},
   "outputs": [
    {
     "name": "stdout",
     "output_type": "stream",
     "text": [
      "1\n",
      "90\n",
      "The Largest value is: 90 and the smallest value: 1\n"
     ]
    }
   ],
   "source": [
    "num = [1, 12, 23, 34, 90, 30, 77, 9, 60, 55]\n",
    "max_num = max(num)\n",
    "min_num = min(num)\n",
    "for i in num:\n",
    "    if i == max_num:\n",
    "        print(i)\n",
    "    elif i == min_num:\n",
    "        print(i)\n",
    "else:\n",
    "    print(f\"The Largest value is: {max_num} and the smallest value: {min_num}\")"
   ]
  },
  {
   "cell_type": "markdown",
   "id": "55e24ab2-6f9b-4532-b0d6-5c307ea090ac",
   "metadata": {},
   "source": [
    "## 4. Write a program that removes all duplicate values from a list and prints the unique elements."
   ]
  },
  {
   "cell_type": "code",
   "execution_count": 93,
   "id": "c2d62cc6-1abc-42a2-9348-9e6f7a8da1f5",
   "metadata": {},
   "outputs": [
    {
     "name": "stdout",
     "output_type": "stream",
     "text": [
      "[1, 34, 5, 6, 2]\n"
     ]
    }
   ],
   "source": [
    "lis = [1, 34, 34, 5, 6, 2, 2]\n",
    "lis2 = []\n",
    "for i in lis:\n",
    "    if i not in lis2:\n",
    "        lis2.append(i)\n",
    "print(lis2)"
   ]
  },
  {
   "cell_type": "markdown",
   "id": "84520286-230d-4592-a2bb-2986eedfc9f3",
   "metadata": {},
   "source": [
    "## 5. Write a program that finds the most common element in a list and how many times it appears "
   ]
  },
  {
   "cell_type": "code",
   "execution_count": 11,
   "id": "18cf904c-d7b9-43f0-9ef5-c3f55c0271b7",
   "metadata": {},
   "outputs": [
    {
     "name": "stdout",
     "output_type": "stream",
     "text": [
      "3 is the most common item in the list and it appears 4 times\n"
     ]
    }
   ],
   "source": [
    "lis = [1, 4, 2, 56, 2, 2, 3, 3, 3, 3, 6]\n",
    "counter = 0\n",
    "for i in lis:\n",
    "    curr_frequency = lis.count(i)\n",
    "    if curr_frequency > counter:\n",
    "        counter = curr_frequency\n",
    "        num = i\n",
    "print(f\"{num} is the most common item in the list and it appears {lis.count(num)} times\")"
   ]
  },
  {
   "cell_type": "markdown",
   "id": "2357608b-59b2-4af7-8d55-4cda1aa36832",
   "metadata": {},
   "source": [
    "## 6. Create a program that counts the number of vowels and consonants in a sentence."
   ]
  },
  {
   "cell_type": "code",
   "execution_count": 95,
   "id": "248bfb2c-a797-46f1-b8af-a48fd77396d2",
   "metadata": {},
   "outputs": [
    {
     "name": "stdin",
     "output_type": "stream",
     "text": [
      "Enter a sentence welcome home my guy\n"
     ]
    },
    {
     "name": "stdout",
     "output_type": "stream",
     "text": [
      "the number of vowels in the sentence are: 6 and the number of consonants in the sentence are: 13\n"
     ]
    }
   ],
   "source": [
    "vol = []\n",
    "cons = []\n",
    "senten = input(\"Enter a sentence\").lower()\n",
    "for letter in senten:\n",
    "    if letter not in (\"a\", \"e\", \"i\", \"o\", \"u\"):\n",
    "        cons.append(letter)\n",
    "    else:\n",
    "        vol.append(letter)\n",
    "print(f\"the number of vowels in the sentence are: {len(vol)} and the number of consonants in the sentence are: {len(cons)}\")"
   ]
  },
  {
   "cell_type": "markdown",
   "id": "45617198-9b56-40a9-9bac-d83ba19e8cfb",
   "metadata": {},
   "source": [
    "## 7. Write a program that finds the longest word in a sentence entered by the user."
   ]
  },
  {
   "cell_type": "code",
   "execution_count": 20,
   "id": "be5aa4f0-e195-483b-8325-ac2410959a2b",
   "metadata": {},
   "outputs": [
    {
     "name": "stdin",
     "output_type": "stream",
     "text": [
      "Enter a sentence:  welcome home my g\n"
     ]
    },
    {
     "name": "stdout",
     "output_type": "stream",
     "text": [
      "The longest word in the sentence is: welcome\n"
     ]
    }
   ],
   "source": [
    "senn = input(\"Enter a sentence: \").split()\n",
    "#print (senn)\n",
    "length = 0\n",
    "for i in senn:\n",
    "    #print(len(i))\n",
    "    length_of_word = len(i)\n",
    "    if length_of_word > length:\n",
    "        length = length_of_word\n",
    "        word = i\n",
    "print(f\"The longest word in the sentence is: {word}\")"
   ]
  },
  {
   "cell_type": "markdown",
   "id": "b77b447c-f304-4088-a76e-d558e3cc743a",
   "metadata": {},
   "source": [
    "## 8. Create a program that removes all spaces from a string and prints it as one continuous word."
   ]
  },
  {
   "cell_type": "code",
   "execution_count": 26,
   "id": "f51a0938-1980-45f6-910e-e48c0983778b",
   "metadata": {},
   "outputs": [
    {
     "name": "stdin",
     "output_type": "stream",
     "text": [
      "Enter a sentence:  welcome home my g\n"
     ]
    },
    {
     "name": "stdout",
     "output_type": "stream",
     "text": [
      "welcomehomemyg\n"
     ]
    }
   ],
   "source": [
    "sence = input(\"Enter a sentence: \").split()\n",
    "#print(sence)\n",
    "count = \"\"\n",
    "for i in sence:\n",
    "    count += i\n",
    "print(count)"
   ]
  },
  {
   "cell_type": "markdown",
   "id": "1b9d6689-6d40-4787-9ee0-8b6cd45d5f96",
   "metadata": {},
   "source": [
    "## 9. Create a program that sums user-entered numbers until the total exceeds 100, then stops and reports how many numbers were entered."
   ]
  },
  {
   "cell_type": "code",
   "execution_count": 31,
   "id": "8a33f7af-10ad-4f62-91fa-5017c047cb55",
   "metadata": {},
   "outputs": [
    {
     "name": "stdin",
     "output_type": "stream",
     "text": [
      "Enter a number:  4\n"
     ]
    },
    {
     "name": "stdout",
     "output_type": "stream",
     "text": [
      "4.0\n"
     ]
    },
    {
     "name": "stdin",
     "output_type": "stream",
     "text": [
      "Enter a number:  2\n"
     ]
    },
    {
     "name": "stdout",
     "output_type": "stream",
     "text": [
      "6.0\n"
     ]
    },
    {
     "name": "stdin",
     "output_type": "stream",
     "text": [
      "Enter a number:  69\n"
     ]
    },
    {
     "name": "stdout",
     "output_type": "stream",
     "text": [
      "75.0\n"
     ]
    },
    {
     "name": "stdin",
     "output_type": "stream",
     "text": [
      "Enter a number:  80\n"
     ]
    },
    {
     "name": "stdout",
     "output_type": "stream",
     "text": [
      "155.0\n",
      "A total of 4 numbers was entered\n"
     ]
    }
   ],
   "source": [
    "numbers_used = []\n",
    "total = 0\n",
    "while total < 100:\n",
    "    num = float(input(\"Enter a number: \"))\n",
    "    numbers_used.append(num)\n",
    "    total += num\n",
    "    print(total)\n",
    "    if total > 100:\n",
    "        print(f\"A total of {len(numbers_used)} numbers was entered\")"
   ]
  },
  {
   "cell_type": "markdown",
   "id": "11b9048f-bdd8-420c-bed4-77ba6dfb1388",
   "metadata": {},
   "source": [
    "## 10. Write a program using a while loop that keeps asking for a password until the user enters \"secret123\""
   ]
  },
  {
   "cell_type": "code",
   "execution_count": 38,
   "id": "11391bd6-c5ca-4cf3-8666-279a9ce8e6b9",
   "metadata": {},
   "outputs": [
    {
     "name": "stdin",
     "output_type": "stream",
     "text": [
      "Enter Password:  ggg\n"
     ]
    },
    {
     "name": "stdout",
     "output_type": "stream",
     "text": [
      "ggg\n"
     ]
    },
    {
     "name": "stdin",
     "output_type": "stream",
     "text": [
      "Enter Password:  hhhhhh\n"
     ]
    },
    {
     "name": "stdout",
     "output_type": "stream",
     "text": [
      "hhhhhh\n"
     ]
    },
    {
     "name": "stdin",
     "output_type": "stream",
     "text": [
      "Enter Password:  secret123\n"
     ]
    },
    {
     "name": "stdout",
     "output_type": "stream",
     "text": [
      "secret123\n"
     ]
    }
   ],
   "source": [
    "while True:\n",
    "    password = input(\"Enter Password: \").lower()\n",
    "    if password == \"secret123\":\n",
    "        print(password)\n",
    "        break\n",
    "    else:\n",
    "        print(password)"
   ]
  },
  {
   "cell_type": "markdown",
   "id": "c9efe3ac-42ab-4faf-a178-7d033debc102",
   "metadata": {},
   "source": [
    "## 11. Write a program that prints all even numbers between 1 and 50"
   ]
  },
  {
   "cell_type": "code",
   "execution_count": 43,
   "id": "3c3973f6-b42a-4bdd-87e1-f41e379a6914",
   "metadata": {},
   "outputs": [
    {
     "name": "stdout",
     "output_type": "stream",
     "text": [
      "2 is an even number\n",
      "4 is an even number\n",
      "6 is an even number\n",
      "8 is an even number\n",
      "10 is an even number\n",
      "12 is an even number\n",
      "14 is an even number\n",
      "16 is an even number\n",
      "18 is an even number\n",
      "20 is an even number\n",
      "22 is an even number\n",
      "24 is an even number\n",
      "26 is an even number\n",
      "28 is an even number\n",
      "30 is an even number\n",
      "32 is an even number\n",
      "34 is an even number\n",
      "36 is an even number\n",
      "38 is an even number\n",
      "40 is an even number\n",
      "42 is an even number\n",
      "44 is an even number\n",
      "46 is an even number\n",
      "48 is an even number\n",
      "50 is an even number\n"
     ]
    }
   ],
   "source": [
    "for i in range(1,51):\n",
    "    if i % 2 == 0:\n",
    "        print(f\"{i} is an even number\")"
   ]
  },
  {
   "cell_type": "markdown",
   "id": "a7d65e39-ae3e-490b-8c73-fba8ab00b419",
   "metadata": {},
   "source": [
    "## 12. Create a program that prints the Fibonacci sequence up to a specific count provided by the user."
   ]
  },
  {
   "cell_type": "code",
   "execution_count": 84,
   "id": "c7ac56dd-7edb-4623-b945-886220521ddf",
   "metadata": {},
   "outputs": [
    {
     "name": "stdin",
     "output_type": "stream",
     "text": [
      "Enter the count:  10\n"
     ]
    },
    {
     "name": "stdout",
     "output_type": "stream",
     "text": [
      "[0, 1, 1, 2, 3, 5, 8, 13, 21, 34, 55]\n"
     ]
    }
   ],
   "source": [
    "limit = int(input(\"Enter the count: \"))\n",
    "sequence = [0, 1]\n",
    "total = 0\n",
    "count = 0\n",
    "for i in range(1, limit):\n",
    "    number = i\n",
    "    total = sequence[-1] + sequence[-2]\n",
    "    if total > count:\n",
    "        sequence.append(total)\n",
    "        count = number\n",
    "print(sequence)"
   ]
  },
  {
   "cell_type": "markdown",
   "id": "29bc600c-a2d6-4f02-8d1a-de6f4a549949",
   "metadata": {},
   "source": [
    "## 13. Write a program that prints the multiplication table of a number entered by the user up to 10."
   ]
  },
  {
   "cell_type": "code",
   "execution_count": 92,
   "id": "08494054-a94f-4215-a2bb-d3d8c0cfe246",
   "metadata": {},
   "outputs": [
    {
     "name": "stdin",
     "output_type": "stream",
     "text": [
      "Enter the number for the mutiplication table:  5\n"
     ]
    },
    {
     "name": "stdout",
     "output_type": "stream",
     "text": [
      " 1 X 5 = 5\n",
      " 2 X 5 = 10\n",
      " 3 X 5 = 15\n",
      " 4 X 5 = 20\n",
      " 5 X 5 = 25\n",
      " 6 X 5 = 30\n",
      " 7 X 5 = 35\n",
      " 8 X 5 = 40\n",
      " 9 X 5 = 45\n",
      " 10 X 5 = 50\n"
     ]
    }
   ],
   "source": [
    "num = int(input(\"Enter the number for the mutiplication table: \"))\n",
    "for i in range(1, 11):\n",
    "    total = i * num\n",
    "    print(f\" {i} X {num} = {total}\")"
   ]
  },
  {
   "cell_type": "markdown",
   "id": "48efbe18-e802-4590-b955-7bfc76a944fb",
   "metadata": {},
   "source": [
    "## 14. Write a program that asks the user to enter numbers repeatedly and stops when the user enters a negative number, then prints the list of entered numbers."
   ]
  },
  {
   "cell_type": "code",
   "execution_count": 5,
   "id": "456e529d-b665-4f1f-b909-913feed2bd8b",
   "metadata": {},
   "outputs": [
    {
     "name": "stdin",
     "output_type": "stream",
     "text": [
      "Enter a number:  2\n",
      "Enter a number:  4\n",
      "Enter a number:  6\n",
      "Enter a number:  7\n",
      "Enter a number:  8\n",
      "Enter a number:  -2\n"
     ]
    },
    {
     "name": "stdout",
     "output_type": "stream",
     "text": [
      "[2, 4, 6, 7, 8]\n"
     ]
    }
   ],
   "source": [
    "lis = []\n",
    "while True:\n",
    "    num = int(input(\"Enter a number: \"))\n",
    "    if num >= 0:\n",
    "        lis.append(num)\n",
    "    else:\n",
    "        print(lis)\n",
    "        break"
   ]
  },
  {
   "cell_type": "markdown",
   "id": "f7d6d536-b967-4a82-a1f2-2defe8b2574f",
   "metadata": {},
   "source": [
    "## 15. Write a program that keeps asking for a number until the user enters 0, then outputs the sum of all entered numbers"
   ]
  },
  {
   "cell_type": "code",
   "execution_count": 20,
   "id": "5b10caec-2d22-40bd-82a1-5b778786f510",
   "metadata": {},
   "outputs": [
    {
     "name": "stdin",
     "output_type": "stream",
     "text": [
      "Enter a number:  2\n",
      "Enter a number:  1\n",
      "Enter a number:  3\n",
      "Enter a number:  0\n"
     ]
    },
    {
     "name": "stdout",
     "output_type": "stream",
     "text": [
      "Total sum of entered numbers: 6\n"
     ]
    }
   ],
   "source": [
    "total_of_numbers = 0\n",
    "while True:\n",
    "    num = int(input(\"Enter a number: \"))\n",
    "    if num != 0:\n",
    "        total_of_numbers += num\n",
    "    else:\n",
    "        print(f\"Total sum of entered numbers: {total_of_numbers}\")\n",
    "        break"
   ]
  },
  {
   "cell_type": "markdown",
   "id": "ad635fc0-0228-4375-9f0a-c6a895d361e4",
   "metadata": {},
   "source": [
    "## 16. Create a program that finds the smallest power of 2 greater than a number entered by the user."
   ]
  },
  {
   "cell_type": "code",
   "execution_count": 55,
   "id": "f378cc16-bb69-4e56-9203-574c539a11d4",
   "metadata": {},
   "outputs": [
    {
     "name": "stdin",
     "output_type": "stream",
     "text": [
      "Enter a number:  5\n"
     ]
    },
    {
     "name": "stdout",
     "output_type": "stream",
     "text": [
      "The smallest power of 2 greater than 5 is 8\n"
     ]
    }
   ],
   "source": [
    "num = int(input(\"Enter a number: \"))\n",
    "container = []\n",
    "for i in range(1, num):\n",
    "    result = 2**i\n",
    "    if result > num and result**1/2:\n",
    "        container.append(result)\n",
    "print(f\"The smallest power of 2 greater than {num} is: {min(container)}\")"
   ]
  },
  {
   "cell_type": "code",
   "execution_count": 37,
   "id": "13083651-8924-462d-9f69-1c62ff840f47",
   "metadata": {},
   "outputs": [
    {
     "data": {
      "text/plain": [
       "4.0"
      ]
     },
     "execution_count": 37,
     "metadata": {},
     "output_type": "execute_result"
    }
   ],
   "source": [
    "8**1/2"
   ]
  },
  {
   "cell_type": "code",
   "execution_count": 53,
   "id": "14087bff-1415-4369-b670-5a809527296a",
   "metadata": {},
   "outputs": [
    {
     "data": {
      "text/plain": [
       "64"
      ]
     },
     "execution_count": 53,
     "metadata": {},
     "output_type": "execute_result"
    }
   ],
   "source": [
    "2**6"
   ]
  },
  {
   "cell_type": "code",
   "execution_count": null,
   "id": "eebae2bf-b229-472a-8760-b3a1baccddfa",
   "metadata": {},
   "outputs": [],
   "source": []
  }
 ],
 "metadata": {
  "kernelspec": {
   "display_name": "Python [conda env:base] *",
   "language": "python",
   "name": "conda-base-py"
  },
  "language_info": {
   "codemirror_mode": {
    "name": "ipython",
    "version": 3
   },
   "file_extension": ".py",
   "mimetype": "text/x-python",
   "name": "python",
   "nbconvert_exporter": "python",
   "pygments_lexer": "ipython3",
   "version": "3.12.7"
  }
 },
 "nbformat": 4,
 "nbformat_minor": 5
}
